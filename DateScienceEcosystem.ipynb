{
 "cells": [
  {
   "cell_type": "markdown",
   "id": "ed179b63-5ee3-4ebe-bb06-4c402fbe13e9",
   "metadata": {},
   "source": [
    "# DateScienceEcosystem"
   ]
  },
  {
   "cell_type": "markdown",
   "id": "b11e4bf7-a4f5-4153-81c3-9f148262adef",
   "metadata": {},
   "source": [
    "In this notebook, Data Science Tools and Ecosystem are summarized."
   ]
  },
  {
   "cell_type": "markdown",
   "id": "cd6eb239-a2dd-49fa-aae0-177d11134882",
   "metadata": {},
   "source": [
    "Some of the popular languages that Data Scientists use are:\n",
    "1. R\n",
    "2. Python\n",
    "3. Julia"
   ]
  },
  {
   "cell_type": "markdown",
   "id": "477700ba-c827-4ee4-b547-46ee69038bb1",
   "metadata": {},
   "source": [
    "Some of the commonly used libraries used by Data Scientists include:\n",
    "1. Pandas\n",
    "2. ggplot\n",
    "3. scikit-learn"
   ]
  },
  {
   "cell_type": "markdown",
   "id": "a440875c-dc8b-4351-acf2-9ebe01e48c8b",
   "metadata": {},
   "source": [
    "|Data Science Tools|\n",
    "|------------------|\n",
    "|Anaconda|\n",
    "|Jumpyter Notebook|\n",
    "|RStudio|"
   ]
  },
  {
   "cell_type": "markdown",
   "id": "24fa73d4-5834-477e-bb37-2d269730ba58",
   "metadata": {},
   "source": [
    "Below are a few examples of evaluating arithmetic expressions in Python"
   ]
  },
  {
   "cell_type": "code",
   "execution_count": null,
   "id": "29819ba9-7c13-4585-811f-1507f646e4c3",
   "metadata": {},
   "outputs": [],
   "source": []
  }
 ],
 "metadata": {
  "kernelspec": {
   "display_name": "Python 3 (ipykernel)",
   "language": "python",
   "name": "python3"
  },
  "language_info": {
   "codemirror_mode": {
    "name": "ipython",
    "version": 3
   },
   "file_extension": ".py",
   "mimetype": "text/x-python",
   "name": "python",
   "nbconvert_exporter": "python",
   "pygments_lexer": "ipython3",
   "version": "3.12.8"
  }
 },
 "nbformat": 4,
 "nbformat_minor": 5
}
